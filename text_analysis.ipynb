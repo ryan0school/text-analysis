{
  "nbformat": 4,
  "nbformat_minor": 0,
  "metadata": {
    "colab": {
      "provenance": [],
      "authorship_tag": "ABX9TyPNeNCw2qOZ0dkP4rv3L5bn",
      "include_colab_link": true
    },
    "kernelspec": {
      "name": "python3",
      "display_name": "Python 3"
    },
    "language_info": {
      "name": "python"
    }
  },
  "cells": [
    {
      "cell_type": "markdown",
      "metadata": {
        "id": "view-in-github",
        "colab_type": "text"
      },
      "source": [
        "<a href=\"https://colab.research.google.com/github/ryan0school/text-analysis/blob/main/text_analysis.ipynb\" target=\"_parent\"><img src=\"https://colab.research.google.com/assets/colab-badge.svg\" alt=\"Open In Colab\"/></a>"
      ]
    },
    {
      "cell_type": "code",
      "execution_count": 47,
      "metadata": {
        "colab": {
          "base_uri": "https://localhost:8080/"
        },
        "id": "UbA9LCcLaeRa",
        "outputId": "6f881265-98a9-4a3f-b9af-4b55d2e56e4f"
      },
      "outputs": [
        {
          "output_type": "stream",
          "name": "stdout",
          "text": [
            "Total words: 144\n",
            "Total punctuations: 35\n",
            "Specific punctuation counts: {'.': 18, ',': 4, '-': 6, \"'\": 4, '*': 2, ':': 0}\n",
            "Total capital letters: 25\n",
            "Most common word: is\n"
          ]
        }
      ],
      "source": [
        "import string\n",
        "from collections import Counter\n",
        "f = 'text_file.txt'\n",
        "\n",
        "\n",
        "def analyze_text(file_path):\n",
        "  with open(file_path , 'r') as file:\n",
        "    text = file.read()\n",
        "    word = text.split()\n",
        "    count = Counter(word)\n",
        "    punctuation = set(string.punctuation)\n",
        "    total_words = len(word)\n",
        "\n",
        "    total_punctuations = sum(1 for char in text if char in string.punctuation)\n",
        "    specific_punctuations = ['.', ',', '-' , \"'\", '*', ':']\n",
        "    specific_count = {p: text.count(p) for p in specific_punctuations}\n",
        "    capitals = sum(1 for char in text if char.isupper())\n",
        "    common = count.most_common(1)[0][0]\n",
        "\n",
        "  return {\n",
        "    'total_words': total_words,\n",
        "    'total_punctuations': total_punctuations,\n",
        "    'specific_punctuation_counts': specific_count,\n",
        "    'total_capital_letters': capitals,\n",
        "    'most_common_word': common\n",
        "\n",
        "}\n",
        "file_path = '/text_file.txt'\n",
        "\n",
        "results = analyze_text(file_path)\n",
        "\n",
        "print(f\"Total words: {results['total_words']}\")\n",
        "print(f\"Total punctuations: {results['total_punctuations']}\")\n",
        "print(f\"Specific punctuation counts: {results['specific_punctuation_counts']}\")\n",
        "print(f\"Total capital letters: {results['total_capital_letters']}\")\n",
        "print(f\"Most common word: {results['most_common_word']}\")\n"
      ]
    }
  ]
}